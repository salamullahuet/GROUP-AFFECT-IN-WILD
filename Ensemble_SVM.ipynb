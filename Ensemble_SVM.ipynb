{
  "nbformat": 4,
  "nbformat_minor": 0,
  "metadata": {
    "colab": {
      "name": "Ensemble_SVM.ipynb",
      "provenance": []
    },
    "kernelspec": {
      "name": "python3",
      "display_name": "Python 3"
    },
    "accelerator": "GPU"
  },
  "cells": [
    {
      "cell_type": "code",
      "metadata": {
        "id": "sP77NlFOCPSB"
      },
      "source": [
        "import numpy as np\r\n",
        "from sklearn import svm"
      ],
      "execution_count": 1,
      "outputs": []
    },
    {
      "cell_type": "code",
      "metadata": {
        "id": "1Ak_-s6PCWyY"
      },
      "source": [
        "label_to_name = { 0 : 'Negative',\r\n",
        "                  1 : 'Neutral',\r\n",
        "                  2 : 'Positive'}\r\n",
        "\r\n",
        "path_output_data = '/content/drive/MyDrive/fourteen_models_output_data.npz'\r\n",
        "path_test_output_data = '/content/drive/MyDrive/test_data_fourteen_models_outputs.npz' #/content/drive/MyDrive/test_data_fourteen_models_outputs.npz\r\n",
        "submission_folder = '/Submissions/Submission_8/'"
      ],
      "execution_count": 2,
      "outputs": []
    },
    {
      "cell_type": "code",
      "metadata": {
        "id": "FMGlp03mDIdU"
      },
      "source": [
        "def softmax(x):\r\n",
        "    \"\"\"\r\n",
        "    Compute softmax values for each sets of scores in x.\r\n",
        "    \r\n",
        "    Rows are scores for each class. \r\n",
        "    Columns are predictions (samples).\r\n",
        "    \"\"\"\r\n",
        "    scoreMatExp = np.exp(np.asarray(x))\r\n",
        "    \r\n",
        "    result = np.zeros((scoreMatExp.shape[0], 3))\r\n",
        "    \r\n",
        "    result[:, 0] = scoreMatExp[:, 0] / scoreMatExp.sum(1)\r\n",
        "    result[:, 1] = scoreMatExp[:, 1] / scoreMatExp.sum(1)\r\n",
        "    result[:, 2] = scoreMatExp[:, 2] / scoreMatExp.sum(1)\r\n",
        "    \r\n",
        "    return result"
      ],
      "execution_count": 3,
      "outputs": []
    },
    {
      "cell_type": "code",
      "metadata": {
        "colab": {
          "base_uri": "https://localhost:8080/"
        },
        "id": "ETvxXB-yDNX3",
        "outputId": "b73995d5-86c8-490b-af3e-9a81520cc8d3"
      },
      "source": [
        "data = np.load(path_output_data)\r\n",
        "model1_train = data['output_train_model1']\r\n",
        "model2_train = data['output_train_model2']\r\n",
        "model3_train = data['output_train_model3']\r\n",
        "model4_train = data['output_train_model4']\r\n",
        "model5_train = data['output_train_model5']\r\n",
        "model6_train = data['output_train_model6']\r\n",
        "model7_train = data['output_train_model7']\r\n",
        "model8_train = data['output_train_model8']\r\n",
        "model9_train = data['output_train_model9']\r\n",
        "model10_train = data['output_train_model10']\r\n",
        "model11_train = data['output_train_model11']\r\n",
        "model12_train = data['output_train_model12']\r\n",
        "model13_train = data['output_train_model13']\r\n",
        "model14_train = data['output_train_model14']\r\n",
        "model1_val = data['output_valid_model1']\r\n",
        "model2_val = data['output_valid_model2']\r\n",
        "model3_val = data['output_valid_model3']\r\n",
        "model4_val = data['output_valid_model4']\r\n",
        "model5_val = data['output_valid_model5']\r\n",
        "model6_val = data['output_valid_model6']\r\n",
        "model7_val = data['output_valid_model7']\r\n",
        "model8_val = data['output_valid_model8']\r\n",
        "model9_val = data['output_valid_model9']\r\n",
        "model10_val = data['output_valid_model10']\r\n",
        "model11_val = data['output_valid_model11']\r\n",
        "model12_val = data['output_valid_model12']\r\n",
        "model13_val = data['output_valid_model13']\r\n",
        "model14_val = data['output_valid_model14']\r\n",
        "model1_eval = data['output_test_model1']\r\n",
        "model2_eval = data['output_test_model2']\r\n",
        "model3_eval = data['output_test_model3']\r\n",
        "model4_eval = data['output_test_model4']\r\n",
        "model5_eval = data['output_test_model5']\r\n",
        "model6_eval = data['output_test_model6']\r\n",
        "model7_eval = data['output_test_model7']\r\n",
        "model8_eval = data['output_test_model8']\r\n",
        "model9_eval = data['output_test_model9']\r\n",
        "model10_eval = data['output_test_model10']\r\n",
        "model11_eval = data['output_test_model11']\r\n",
        "model12_eval = data['output_test_model12']\r\n",
        "model13_eval = data['output_test_model13']\r\n",
        "model14_eval = data['output_test_model14']\r\n",
        "train_label = data['label_train']\r\n",
        "valid_label = data['label_valid']\r\n",
        "eval_label = data['label_test']\r\n",
        "print('Dataset Loaded')"
      ],
      "execution_count": 4,
      "outputs": [
        {
          "output_type": "stream",
          "text": [
            "Dataset Loaded\n"
          ],
          "name": "stdout"
        }
      ]
    },
    {
      "cell_type": "code",
      "metadata": {
        "colab": {
          "base_uri": "https://localhost:8080/"
        },
        "id": "oN8yrWMEDTge",
        "outputId": "843cf7dd-9df4-444f-b46e-ccdd87a048eb"
      },
      "source": [
        "data_test = np.load(path_test_output_data)\r\n",
        "model1_test = data_test['output_test_model1']\r\n",
        "model2_test = data_test['output_test_model2']\r\n",
        "model3_test = data_test['output_test_model3']\r\n",
        "model4_test = data_test['output_test_model4']\r\n",
        "model5_test = data_test['output_test_model5']\r\n",
        "model6_test = data_test['output_test_model6']\r\n",
        "model7_test = data_test['output_test_model7']\r\n",
        "model8_test = data_test['output_test_model8']\r\n",
        "model9_test = data_test['output_test_model9']\r\n",
        "model10_test = data_test['output_test_model10']\r\n",
        "model11_test = data_test['output_test_model11']\r\n",
        "model12_test = data_test['output_test_model12']\r\n",
        "model13_test = data_test['output_test_model13']\r\n",
        "model14_test = data_test['output_test_model14']\r\n",
        "test_filenames = data_test['filename_test']\r\n",
        "print('TEST Dataset Loaded')"
      ],
      "execution_count": 5,
      "outputs": [
        {
          "output_type": "stream",
          "text": [
            "TEST Dataset Loaded\n"
          ],
          "name": "stdout"
        }
      ]
    },
    {
      "cell_type": "code",
      "metadata": {
        "id": "ao2x2hrgDYjF"
      },
      "source": [
        "model1_train_prob = softmax(model1_train)\r\n",
        "model2_train_prob = softmax(model2_train)\r\n",
        "model3_train_prob = softmax(model3_train)\r\n",
        "model4_train_prob = softmax(model4_train)\r\n",
        "model5_train_prob = softmax(model5_train)\r\n",
        "model6_train_prob = softmax(model6_train)\r\n",
        "model7_train_prob = softmax(model7_train)\r\n",
        "model8_train_prob = softmax(model8_train)\r\n",
        "model9_train_prob = softmax(model9_train)\r\n",
        "model10_train_prob = softmax(model10_train)\r\n",
        "model11_train_prob = softmax(model11_train)\r\n",
        "model12_train_prob = softmax(model12_train)\r\n",
        "model13_train_prob = softmax(model13_train)\r\n",
        "model14_train_prob = softmax(model14_train)\r\n",
        "model1_val_prob = softmax(model1_val) \r\n",
        "model2_val_prob = softmax(model2_val) \r\n",
        "model3_val_prob = softmax(model3_val) \r\n",
        "model4_val_prob = softmax(model4_val) \r\n",
        "model5_val_prob = softmax(model5_val) \r\n",
        "model6_val_prob = softmax(model6_val) \r\n",
        "model7_val_prob = softmax(model7_val) \r\n",
        "model8_val_prob = softmax(model8_val) \r\n",
        "model9_val_prob = softmax(model9_val) \r\n",
        "model10_val_prob = softmax(model10_val) \r\n",
        "model11_val_prob = softmax(model11_val) \r\n",
        "model12_val_prob = softmax(model12_val) \r\n",
        "model13_val_prob = softmax(model13_val) \r\n",
        "model14_val_prob = softmax(model14_val) \r\n",
        "model1_eval_prob = softmax(model1_eval)\r\n",
        "model2_eval_prob = softmax(model2_eval)\r\n",
        "model3_eval_prob = softmax(model3_eval)\r\n",
        "model4_eval_prob = softmax(model4_eval)\r\n",
        "model5_eval_prob = softmax(model5_eval)\r\n",
        "model6_eval_prob = softmax(model6_eval)\r\n",
        "model7_eval_prob = softmax(model7_eval)\r\n",
        "model8_eval_prob = softmax(model8_eval)\r\n",
        "model9_eval_prob = softmax(model9_eval)\r\n",
        "model10_eval_prob = softmax(model10_eval)\r\n",
        "model11_eval_prob = softmax(model11_eval)\r\n",
        "model12_eval_prob = softmax(model12_eval)\r\n",
        "model13_eval_prob = softmax(model13_eval)\r\n",
        "model14_eval_prob = softmax(model14_eval)"
      ],
      "execution_count": 6,
      "outputs": []
    },
    {
      "cell_type": "code",
      "metadata": {
        "id": "1YYc-WM7DdyY"
      },
      "source": [
        "# Concatenate probabilistic outputs of each model\r\n",
        "\r\n",
        "train_data_prob = np.concatenate((model1_train_prob, model2_train_prob, model3_train_prob, model4_train_prob, \r\n",
        "                             model5_train_prob, model6_train_prob, model7_train_prob, model8_train_prob,\r\n",
        "                             model9_train_prob, model10_train_prob, model11_train_prob, model12_train_prob, \r\n",
        "                             model13_train_prob, model14_train_prob), axis = 1)\r\n",
        "\r\n",
        "valid_data_prob = np.concatenate((model1_val_prob, model2_val_prob, model3_val_prob, model4_val_prob, model5_val_prob,\r\n",
        "                            model6_val_prob, model7_val_prob, model8_val_prob, model9_val_prob, model10_val_prob, \r\n",
        "                             model11_val_prob, model12_val_prob, model13_val_prob, model14_val_prob), axis = 1)\r\n",
        "\r\n",
        "eval_data_prob = np.concatenate((model1_eval_prob, model2_eval_prob, model3_eval_prob, model4_eval_prob, model5_eval_prob,\r\n",
        "                            model6_eval_prob, model7_eval_prob, model8_eval_prob, model9_eval_prob, model10_eval_prob, \r\n",
        "                           model11_eval_prob, model12_eval_prob, model13_eval_prob, model14_eval_prob), axis = 1)"
      ],
      "execution_count": 7,
      "outputs": []
    },
    {
      "cell_type": "code",
      "metadata": {
        "id": "8UBTQGw_DjQY"
      },
      "source": [
        "# Concatenate outputs of each model\r\n",
        "\r\n",
        "train_data = np.concatenate((model1_train, model2_train, model3_train, model4_train, \r\n",
        "                             model5_train, model6_train, model7_train, model8_train, \r\n",
        "                             model9_train, model10_train, model11_train, model12_train, \r\n",
        "                             model13_train, model14_train), axis = 1)\r\n",
        "\r\n",
        "valid_data = np.concatenate((model1_val, model2_val, model3_val, model4_val, model5_val,\r\n",
        "                            model6_val, model7_val, model8_val, model9_val, \r\n",
        "                             model10_val, model11_val, model12_val, model13_val, model14_val), axis = 1)\r\n",
        "\r\n",
        "eval_data = np.concatenate((model1_eval, model2_eval, model3_eval, model4_eval, model5_eval,\r\n",
        "                            model6_eval, model7_eval, model8_eval, model9_eval, model10_eval, model11_eval, \r\n",
        "                            model12_eval, model13_eval, model14_eval), axis = 1)"
      ],
      "execution_count": 8,
      "outputs": []
    },
    {
      "cell_type": "code",
      "metadata": {
        "id": "yyetuKjiDm37"
      },
      "source": [
        "clf = svm.SVC(kernel = 'linear', C = 0.00009)"
      ],
      "execution_count": 9,
      "outputs": []
    },
    {
      "cell_type": "code",
      "metadata": {
        "id": "VIzJjc8aDslO"
      },
      "source": [
        "clf = clf.fit(train_data_prob, train_label)"
      ],
      "execution_count": 10,
      "outputs": []
    },
    {
      "cell_type": "code",
      "metadata": {
        "colab": {
          "base_uri": "https://localhost:8080/"
        },
        "id": "o-lgDa-iDvfG",
        "outputId": "1bc6c1cc-fc7f-4c3d-d04b-fe8ce72f7c81"
      },
      "source": [
        "train_accuracy = clf.score(train_data_prob, train_label)\r\n",
        "print(train_accuracy*100)"
      ],
      "execution_count": 11,
      "outputs": [
        {
          "output_type": "stream",
          "text": [
            "99.35766721044045\n"
          ],
          "name": "stdout"
        }
      ]
    },
    {
      "cell_type": "code",
      "metadata": {
        "colab": {
          "base_uri": "https://localhost:8080/"
        },
        "id": "qkwbecKwDzRv",
        "outputId": "00d31da8-b33f-44ca-d61e-a103ff4cb438"
      },
      "source": [
        "valid_accuracy = clf.score(valid_data_prob, valid_label)\r\n",
        "print(valid_accuracy * 100)"
      ],
      "execution_count": 12,
      "outputs": [
        {
          "output_type": "stream",
          "text": [
            "77.40197545645017\n"
          ],
          "name": "stdout"
        }
      ]
    },
    {
      "cell_type": "code",
      "metadata": {
        "colab": {
          "base_uri": "https://localhost:8080/"
        },
        "id": "gmZo8kumD2xt",
        "outputId": "50a82ef9-732e-4bb3-8c0a-53fce2bf047d"
      },
      "source": [
        "\r\n",
        "eval_accuracy = clf.score(eval_data_prob, eval_label)\r\n",
        "print(eval_accuracy*100)"
      ],
      "execution_count": 14,
      "outputs": [
        {
          "output_type": "stream",
          "text": [
            "79.5\n"
          ],
          "name": "stdout"
        }
      ]
    },
    {
      "cell_type": "code",
      "metadata": {
        "id": "zRG8fBMFD5ty"
      },
      "source": [
        "model1_test_prob = softmax(model1_test)\r\n",
        "model2_test_prob = softmax(model2_test)\r\n",
        "model3_test_prob = softmax(model3_test)\r\n",
        "model4_test_prob = softmax(model4_test)\r\n",
        "model5_test_prob = softmax(model5_test)\r\n",
        "model6_test_prob = softmax(model6_test)\r\n",
        "model7_test_prob = softmax(model7_test)\r\n",
        "model8_test_prob = softmax(model8_test)\r\n",
        "model9_test_prob = softmax(model9_test)\r\n",
        "model10_test_prob = softmax(model10_test)\r\n",
        "model11_test_prob = softmax(model11_test)\r\n",
        "model12_test_prob = softmax(model12_test)\r\n",
        "model13_test_prob = softmax(model13_test)\r\n",
        "model14_test_prob = softmax(model14_test)"
      ],
      "execution_count": 15,
      "outputs": []
    },
    {
      "cell_type": "code",
      "metadata": {
        "id": "t6YQL9_VD_2e"
      },
      "source": [
        "# Concatenate probabilistic outputs of each model\r\n",
        "\r\n",
        "test_data_prob = np.concatenate((model1_test_prob, model2_test_prob, model3_test_prob,\r\n",
        "                                model4_test_prob, model5_test_prob, model6_test_prob, \r\n",
        "                                model7_test_prob, model8_test_prob, model9_test_prob, \r\n",
        "                                model10_test_prob, model11_test_prob, model12_test_prob, \r\n",
        "                                model13_test_prob, model14_test_prob), axis = 1)"
      ],
      "execution_count": 16,
      "outputs": []
    },
    {
      "cell_type": "code",
      "metadata": {
        "id": "B06fICuWEDWg"
      },
      "source": [
        "# Concatenate outputs of each model\r\n",
        "\r\n",
        "test_data = np.concatenate((model1_test, model2_test, model3_test, model4_test, model5_test, model6_test, \r\n",
        "                            model7_test, model8_test, model9_test, model10_test, model11_test, model12_test, \r\n",
        "                            model13_test, model14_test), axis = 1)"
      ],
      "execution_count": 17,
      "outputs": []
    },
    {
      "cell_type": "code",
      "metadata": {
        "id": "njTloSM0EHwB"
      },
      "source": [
        "predictions_test = clf.predict(test_data_prob)"
      ],
      "execution_count": 18,
      "outputs": []
    },
    {
      "cell_type": "code",
      "metadata": {
        "id": "gVaBsRhaEPos"
      },
      "source": [
        ""
      ],
      "execution_count": null,
      "outputs": []
    }
  ]
}