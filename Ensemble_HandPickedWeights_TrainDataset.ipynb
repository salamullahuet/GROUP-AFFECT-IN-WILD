{
  "nbformat": 4,
  "nbformat_minor": 0,
  "metadata": {
    "colab": {
      "name": "Ensemble_HandPickedWeights_TrainDataset.ipynb",
      "provenance": []
    },
    "kernelspec": {
      "name": "python3",
      "display_name": "Python 3"
    },
    "accelerator": "GPU"
  },
  "cells": [
    {
      "cell_type": "code",
      "metadata": {
        "id": "CRZNHEAo-iZV"
      },
      "source": [
        "import numpy as np"
      ],
      "execution_count": 2,
      "outputs": []
    },
    {
      "cell_type": "code",
      "metadata": {
        "id": "bsQmc79a-q87"
      },
      "source": [
        "label_to_name = { 0 : 'Negative',\r\n",
        "                  1 : 'Neutral',\r\n",
        "                  2 : 'Positive'}\r\n",
        "\r\n",
        "path_output_data = '/content/drive/MyDrive/fourteen_models_output_data.npz'"
      ],
      "execution_count": 3,
      "outputs": []
    },
    {
      "cell_type": "code",
      "metadata": {
        "id": "bSVh638D_GRm"
      },
      "source": [
        "\r\n",
        "def softmax(x):\r\n",
        "    \"\"\"\r\n",
        "    Compute softmax values for each sets of scores in x.\r\n",
        "    \r\n",
        "    Rows are scores for each class. \r\n",
        "    Columns are predictions (samples).\r\n",
        "    \"\"\"\r\n",
        "    scoreMatExp = np.exp(np.asarray(x))\r\n",
        "    \r\n",
        "    result = np.zeros((scoreMatExp.shape[0], 3))\r\n",
        "    \r\n",
        "    result[:, 0] = scoreMatExp[:, 0] / scoreMatExp.sum(1)\r\n",
        "    result[:, 1] = scoreMatExp[:, 1] / scoreMatExp.sum(1)\r\n",
        "    result[:, 2] = scoreMatExp[:, 2] / scoreMatExp.sum(1)\r\n",
        "    \r\n",
        "    return result"
      ],
      "execution_count": 4,
      "outputs": []
    },
    {
      "cell_type": "code",
      "metadata": {
        "colab": {
          "base_uri": "https://localhost:8080/"
        },
        "id": "W26CthyM_Mc6",
        "outputId": "e029fa0a-e94e-4c3b-e48e-6e5d577c47be"
      },
      "source": [
        "data = np.load(path_output_data)\r\n",
        "model1_train = data['output_train_model1']\r\n",
        "model2_train = data['output_train_model2']\r\n",
        "model3_train = data['output_train_model3']\r\n",
        "model4_train = data['output_train_model4']\r\n",
        "model5_train = data['output_train_model5']\r\n",
        "model6_train = data['output_train_model6']\r\n",
        "model7_train = data['output_train_model7']\r\n",
        "model8_train = data['output_train_model8']\r\n",
        "model9_train = data['output_train_model9']\r\n",
        "model10_train = data['output_train_model10']\r\n",
        "model11_train = data['output_train_model11']\r\n",
        "model12_train = data['output_train_model12']\r\n",
        "model13_train = data['output_train_model13']\r\n",
        "model14_train = data['output_train_model14']\r\n",
        "model1_val = data['output_valid_model1']\r\n",
        "model2_val = data['output_valid_model2']\r\n",
        "model3_val = data['output_valid_model3']\r\n",
        "model4_val = data['output_valid_model4']\r\n",
        "model5_val = data['output_valid_model5']\r\n",
        "model6_val = data['output_valid_model6']\r\n",
        "model7_val = data['output_valid_model7']\r\n",
        "model8_val = data['output_valid_model8']\r\n",
        "model9_val = data['output_valid_model9']\r\n",
        "model10_val = data['output_valid_model10']\r\n",
        "model11_val = data['output_valid_model11']\r\n",
        "model12_val = data['output_valid_model12']\r\n",
        "model13_val = data['output_valid_model13']\r\n",
        "model14_val = data['output_valid_model14']\r\n",
        "model1_eval = data['output_test_model1']\r\n",
        "model2_eval = data['output_test_model2']\r\n",
        "model3_eval = data['output_test_model3']\r\n",
        "model4_eval = data['output_test_model4']\r\n",
        "model5_eval = data['output_test_model5']\r\n",
        "model6_eval = data['output_test_model6']\r\n",
        "model7_eval = data['output_test_model7']\r\n",
        "model8_eval = data['output_test_model8']\r\n",
        "model9_eval = data['output_test_model9']\r\n",
        "model10_eval = data['output_test_model10']\r\n",
        "model11_eval = data['output_test_model11']\r\n",
        "model12_eval = data['output_test_model12']\r\n",
        "model13_eval = data['output_test_model13']\r\n",
        "model14_eval = data['output_test_model14']\r\n",
        "train_label = data['label_train']\r\n",
        "valid_label = data['label_valid']\r\n",
        "eval_label = data['label_test']\r\n",
        "print('Dataset Loaded')"
      ],
      "execution_count": 5,
      "outputs": [
        {
          "output_type": "stream",
          "text": [
            "Dataset Loaded\n"
          ],
          "name": "stdout"
        }
      ]
    },
    {
      "cell_type": "code",
      "metadata": {
        "id": "BDptioAA_T3I"
      },
      "source": [
        "m1 = -1\r\n",
        "m2 = 5\r\n",
        "m3 = 10\r\n",
        "m4 = 10\r\n",
        "m5 = 1\r\n",
        "m6 = 5\r\n",
        "m7 = 2.5\r\n",
        "m8 = 5\r\n",
        "\r\n",
        "output_train = m1* model1_train + m2 * model2_train + m3 * model3_train + m4 * model4_train +\\\r\n",
        "m5*model5_train + m6*model6_train + m7*model7_train + m8*model8_train\r\n",
        "\r\n",
        "output_val = m1* model1_val + m2 * model2_val + m3 * model3_val + m4 * model4_val + m5*model5_val +\\\r\n",
        "m6*model6_val + m7*model7_val + m8*model8_val\r\n",
        "\r\n",
        "output_eval = m1* model1_eval + m2 * model2_eval + m3 * model3_eval + m4 * model4_eval +\\\r\n",
        "m5*model5_eval + m6*model6_eval + m7*model7_eval + m8*model8_eval"
      ],
      "execution_count": 7,
      "outputs": []
    },
    {
      "cell_type": "code",
      "metadata": {
        "id": "-9VjvQFp_bqG"
      },
      "source": [
        "pred_train = np.argmax(output_train, axis = 1)\r\n",
        "pred_val = np.argmax(output_val, axis = 1)\r\n",
        "pred_eval = np.argmax(output_eval, axis = 1)"
      ],
      "execution_count": 8,
      "outputs": []
    },
    {
      "cell_type": "code",
      "metadata": {
        "id": "z4yb6_ZfAi_l"
      },
      "source": [
        "correct_train = np.sum(pred_train == train_label)\r\n",
        "correct_val = np.sum(pred_val == valid_label)\r\n",
        "correct_eval = np.sum(pred_eval == eval_label)"
      ],
      "execution_count": 9,
      "outputs": []
    },
    {
      "cell_type": "code",
      "metadata": {
        "id": "EbrvRhLbBU0y"
      },
      "source": [
        "\r\n",
        "train_accuracy = correct_train / output_train.shape[0]\r\n",
        "val_accuracy = correct_val / output_val.shape[0]\r\n",
        "eval_accuracy = correct_eval / output_eval.shape[0]"
      ],
      "execution_count": 10,
      "outputs": []
    },
    {
      "cell_type": "code",
      "metadata": {
        "colab": {
          "base_uri": "https://localhost:8080/"
        },
        "id": "GuAXIPenBYJx",
        "outputId": "440ec307-1cab-4a38-ebf6-d0052df82ca5"
      },
      "source": [
        "print(train_accuracy)"
      ],
      "execution_count": 11,
      "outputs": [
        {
          "output_type": "stream",
          "text": [
            "0.9415783034257749\n"
          ],
          "name": "stdout"
        }
      ]
    },
    {
      "cell_type": "code",
      "metadata": {
        "colab": {
          "base_uri": "https://localhost:8080/"
        },
        "id": "fKKuiK7aBbMg",
        "outputId": "761cbbad-2843-4a27-9942-70be2098d792"
      },
      "source": [
        "print(val_accuracy)"
      ],
      "execution_count": 13,
      "outputs": [
        {
          "output_type": "stream",
          "text": [
            "0.7740197545645017\n"
          ],
          "name": "stdout"
        }
      ]
    },
    {
      "cell_type": "code",
      "metadata": {
        "colab": {
          "base_uri": "https://localhost:8080/"
        },
        "id": "QKl41cJxBega",
        "outputId": "f8793ff6-5481-44f6-8570-68927953afd8"
      },
      "source": [
        "print(eval_accuracy)"
      ],
      "execution_count": 14,
      "outputs": [
        {
          "output_type": "stream",
          "text": [
            "0.787\n"
          ],
          "name": "stdout"
        }
      ]
    },
    {
      "cell_type": "code",
      "metadata": {
        "id": "-pgTChWuBjOU"
      },
      "source": [
        ""
      ],
      "execution_count": null,
      "outputs": []
    }
  ]
}